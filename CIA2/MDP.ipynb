{
 "cells": [
  {
   "cell_type": "code",
   "execution_count": 5,
   "id": "fe3a31cd",
   "metadata": {},
   "outputs": [],
   "source": [
    "import numpy as np"
   ]
  },
  {
   "cell_type": "code",
   "execution_count": 6,
   "id": "8de61948",
   "metadata": {},
   "outputs": [],
   "source": [
    "grid_size = 100\n",
    "grid = np.zeros((grid_size, grid_size))\n",
    "start, goal = (0, 0), (grid_size - 1, grid_size - 1)\n",
    "obstacles = set((np.random.randint(grid_size), np.random.randint(grid_size)) for _ in range(200))\n",
    "for obs in obstacles:\n",
    "    grid[obs] = -1"
   ]
  },
  {
   "cell_type": "code",
   "execution_count": 7,
   "id": "382bd32a",
   "metadata": {},
   "outputs": [],
   "source": [
    "def is_valid_move(state):\n",
    "    x, y = state\n",
    "    return 0 <= x < grid_size and 0 <= y < grid_size and grid[x, y] != -1\n",
    "\n",
    "def get_neighbors(x, y):\n",
    "    moves = [(x-1, y), (x+1, y), (x, y-1), (x, y+1)]\n",
    "    return [m for m in moves if is_valid_move(m)]\n",
    "\n",
    "gamma, threshold = 0.9, 0.01\n",
    "values = np.zeros((grid_size, grid_size))"
   ]
  },
  {
   "cell_type": "code",
   "execution_count": 8,
   "id": "9926c28a",
   "metadata": {},
   "outputs": [],
   "source": [
    "# Value Iteration\n",
    "for _ in range(500):\n",
    "    new_values = np.copy(values)\n",
    "    for x in range(grid_size):\n",
    "        for y in range(grid_size):\n",
    "            if (x, y) == goal or (x, y) in obstacles:\n",
    "                continue\n",
    "            neighbors = get_neighbors(x, y)\n",
    "            if neighbors:\n",
    "                new_values[x, y] = max(-1 + gamma * values[nx, ny] for nx, ny in neighbors)\n",
    "    if np.max(np.abs(new_values - values)) < threshold:\n",
    "        break\n",
    "    values = new_values"
   ]
  },
  {
   "cell_type": "code",
   "execution_count": 9,
   "id": "15ebe765",
   "metadata": {},
   "outputs": [
    {
     "name": "stdout",
     "output_type": "stream",
     "text": [
      "Optimal policy from Value Iteration (0=up, 1=down, 2=left, 3=right):\n",
      "[[ 0  0  0 ...  0  0  0]\n",
      " [ 0  0  0 ...  0  0  0]\n",
      " [ 0  0  0 ...  0  0  0]\n",
      " ...\n",
      " [ 0  0  0 ...  1  1  1]\n",
      " [ 0  0  0 ...  1  1  1]\n",
      " [ 0  0  0 ...  2  2 -1]]\n"
     ]
    }
   ],
   "source": [
    "# Print the optimal policy from Value Iteration\n",
    "print(\"Optimal policy from Value Iteration (0=up, 1=down, 2=left, 3=right):\")\n",
    "policy_vi = np.full((grid_size, grid_size), -1)\n",
    "actions = [(-1, 0), (1, 0), (0, -1), (0, 1)]\n",
    "for x in range(grid_size):\n",
    "    for y in range(grid_size):\n",
    "        if (x, y) == goal or (x, y) in obstacles:\n",
    "            policy_vi[x, y] = -1\n",
    "        else:\n",
    "            neighbors = get_neighbors(x, y)\n",
    "            if neighbors:\n",
    "                policy_vi[x, y] = np.argmax([-1 + gamma * values[nx, ny] for nx, ny in neighbors])\n",
    "print(policy_vi)"
   ]
  },
  {
   "cell_type": "code",
   "execution_count": 10,
   "id": "de236631",
   "metadata": {},
   "outputs": [
    {
     "name": "stdout",
     "output_type": "stream",
     "text": [
      "Optimal policy from Q-learning (0=up, 1=down, 2=left, 3=right):\n",
      "[[0 0 2 ... 0 3 0]\n",
      " [2 1 2 ... 3 3 3]\n",
      " [2 0 0 ... 1 3 3]\n",
      " ...\n",
      " [1 3 3 ... 2 3 1]\n",
      " [3 0 3 ... 1 3 1]\n",
      " [3 2 3 ... 0 3 0]]\n"
     ]
    }
   ],
   "source": [
    "# Q-Learning\n",
    "q_table = np.zeros((grid_size, grid_size, 4))\n",
    "epsilon, alpha = 0.1, 0.1\n",
    "\n",
    "for _ in range(5):\n",
    "    state = start\n",
    "    while state != goal:\n",
    "        x, y = state\n",
    "        if np.random.rand() < epsilon:\n",
    "            action = np.random.choice(4)\n",
    "        else:\n",
    "            action = np.argmax(q_table[x, y])\n",
    "        dx, dy = actions[action]\n",
    "        next_state = (x + dx, y + dy)\n",
    "        if is_valid_move(next_state):\n",
    "            nx, ny = next_state\n",
    "            reward = 10 if next_state == goal else -1\n",
    "            best_next_action = np.max(q_table[nx, ny])\n",
    "            q_table[x, y, action] += alpha * (reward + gamma * best_next_action - q_table[x, y, action])\n",
    "            state = next_state\n",
    "        else:\n",
    "            q_table[x, y, action] += alpha * (-1 - q_table[x, y, action])\n",
    "\n",
    "# Print the policy derived from Q-learning\n",
    "print(\"Optimal policy from Q-learning (0=up, 1=down, 2=left, 3=right):\")\n",
    "policy_q = np.argmax(q_table, axis=2)\n",
    "print(policy_q)\n"
   ]
  },
  {
   "cell_type": "code",
   "execution_count": null,
   "id": "d2b73a2f",
   "metadata": {},
   "outputs": [],
   "source": []
  }
 ],
 "metadata": {
  "kernelspec": {
   "display_name": "Python 3 (ipykernel)",
   "language": "python",
   "name": "python3"
  },
  "language_info": {
   "codemirror_mode": {
    "name": "ipython",
    "version": 3
   },
   "file_extension": ".py",
   "mimetype": "text/x-python",
   "name": "python",
   "nbconvert_exporter": "python",
   "pygments_lexer": "ipython3",
   "version": "3.11.3"
  }
 },
 "nbformat": 4,
 "nbformat_minor": 5
}
